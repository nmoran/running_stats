{
 "cells": [
  {
   "cell_type": "code",
   "execution_count": 22,
   "metadata": {
    "collapsed": true
   },
   "outputs": [],
   "source": [
    "import LoadRuns as lr\n",
    "import glob\n",
    "import pandas as pd\n",
    "import matplotlib.pyplot as plt\n",
    "%matplotlib inline"
   ]
  },
  {
   "cell_type": "markdown",
   "metadata": {},
   "source": [
    "Some things would like to look at. \n",
    "1. Average weekly and monthly distance over time.\n",
    "2. Average pace per km over time\n",
    "3. Average heart rate over time\n",
    "\n",
    "Requirements for this are to be able to calculate:\n",
    "- Total distance per activity\n",
    "- Start time of activity\n",
    "- Average pace per km\n",
    "- Average heart rate"
   ]
  },
  {
   "cell_type": "code",
   "execution_count": 2,
   "metadata": {
    "collapsed": false
   },
   "outputs": [
    {
     "name": "stdout",
     "output_type": "stream",
     "text": [
      "2017-10-14 10:21:24\n",
      "Running\n",
      "145.431276032\n",
      "30074.71\n",
      "0 days 00:06:09.635734\n"
     ]
    }
   ],
   "source": [
    "# activity = lr.Activity('sample/2017-09-19_Dublin 1 Running_Running.tcx')\n",
    "activity = lr.Activity('sample/2017-10-14_Dublin 1 Running_Running.tcx')\n",
    "\n",
    "df = activity.get_all_track_points()\n",
    "print(activity.start_time())\n",
    "print(activity.activity_type())\n",
    "print(activity.average_heart_rate())\n",
    "print(activity.total_distance_meters())\n",
    "print(activity.average_pace())"
   ]
  },
  {
   "cell_type": "code",
   "execution_count": 19,
   "metadata": {
    "collapsed": false
   },
   "outputs": [],
   "source": [
    "data_dir = '/home/nmoran/Dropbox/Apps/tapiriik'\n",
    "files = glob.glob('%s/*.tcx' % data_dir)\n",
    "activities = [lr.Activity(x) for x in files]\n",
    "activities = [x for x in activities if x.activity_type() == 'Running']\n",
    "activities = [x for x in activities if x.start_time() > pd.to_datetime('2017-05-01')]\n",
    "\n",
    "df = pd.DataFrame({'date' : [x.start_time() for x in activities],\n",
    "                   'heart_rate': [x.average_heart_rate() for x in activities],\n",
    "                   'distance': [x.total_distance_meters() for x in activities],\n",
    "                   'pace': [x.average_pace().value/1e9 for x in activities]})\n",
    "df.index = df.date"
   ]
  },
  {
   "cell_type": "code",
   "execution_count": 29,
   "metadata": {
    "collapsed": true
   },
   "outputs": [],
   "source": [
    "df_week = df.resample('7d').agg(['mean', 'sum'])"
   ]
  },
  {
   "cell_type": "code",
   "execution_count": 35,
   "metadata": {
    "collapsed": false
   },
   "outputs": [
    {
     "data": {
      "text/html": [
       "<div>\n",
       "<style>\n",
       "    .dataframe thead tr:only-child th {\n",
       "        text-align: right;\n",
       "    }\n",
       "\n",
       "    .dataframe thead th {\n",
       "        text-align: left;\n",
       "    }\n",
       "\n",
       "    .dataframe tbody tr th {\n",
       "        vertical-align: top;\n",
       "    }\n",
       "</style>\n",
       "<table border=\"1\" class=\"dataframe\">\n",
       "  <thead>\n",
       "    <tr>\n",
       "      <th></th>\n",
       "      <th colspan=\"2\" halign=\"left\">distance</th>\n",
       "      <th colspan=\"2\" halign=\"left\">heart_rate</th>\n",
       "      <th colspan=\"2\" halign=\"left\">pace</th>\n",
       "    </tr>\n",
       "    <tr>\n",
       "      <th></th>\n",
       "      <th>mean</th>\n",
       "      <th>sum</th>\n",
       "      <th>mean</th>\n",
       "      <th>sum</th>\n",
       "      <th>mean</th>\n",
       "      <th>sum</th>\n",
       "    </tr>\n",
       "    <tr>\n",
       "      <th>date</th>\n",
       "      <th></th>\n",
       "      <th></th>\n",
       "      <th></th>\n",
       "      <th></th>\n",
       "      <th></th>\n",
       "      <th></th>\n",
       "    </tr>\n",
       "  </thead>\n",
       "  <tbody>\n",
       "    <tr>\n",
       "      <th>2017-05-02 17:43:45</th>\n",
       "      <td>9339.635000</td>\n",
       "      <td>18679.27</td>\n",
       "      <td>152.670604</td>\n",
       "      <td>305.341208</td>\n",
       "      <td>330.821034</td>\n",
       "      <td>661.642068</td>\n",
       "    </tr>\n",
       "    <tr>\n",
       "      <th>2017-05-09 17:43:45</th>\n",
       "      <td>5978.077500</td>\n",
       "      <td>23912.31</td>\n",
       "      <td>149.871589</td>\n",
       "      <td>599.486357</td>\n",
       "      <td>332.643190</td>\n",
       "      <td>1330.572761</td>\n",
       "    </tr>\n",
       "    <tr>\n",
       "      <th>2017-05-16 17:43:45</th>\n",
       "      <td>NaN</td>\n",
       "      <td>NaN</td>\n",
       "      <td>NaN</td>\n",
       "      <td>NaN</td>\n",
       "      <td>NaN</td>\n",
       "      <td>NaN</td>\n",
       "    </tr>\n",
       "    <tr>\n",
       "      <th>2017-05-23 17:43:45</th>\n",
       "      <td>7472.620000</td>\n",
       "      <td>7472.62</td>\n",
       "      <td>146.278388</td>\n",
       "      <td>146.278388</td>\n",
       "      <td>343.588261</td>\n",
       "      <td>343.588261</td>\n",
       "    </tr>\n",
       "    <tr>\n",
       "      <th>2017-05-30 17:43:45</th>\n",
       "      <td>5032.890000</td>\n",
       "      <td>5032.89</td>\n",
       "      <td>117.939490</td>\n",
       "      <td>117.939490</td>\n",
       "      <td>331.100339</td>\n",
       "      <td>331.100339</td>\n",
       "    </tr>\n",
       "    <tr>\n",
       "      <th>2017-06-06 17:43:45</th>\n",
       "      <td>7670.300000</td>\n",
       "      <td>23010.90</td>\n",
       "      <td>148.267260</td>\n",
       "      <td>444.801779</td>\n",
       "      <td>332.624739</td>\n",
       "      <td>997.874217</td>\n",
       "    </tr>\n",
       "    <tr>\n",
       "      <th>2017-06-13 17:43:45</th>\n",
       "      <td>8450.465000</td>\n",
       "      <td>16900.93</td>\n",
       "      <td>142.642365</td>\n",
       "      <td>285.284729</td>\n",
       "      <td>340.184593</td>\n",
       "      <td>680.369185</td>\n",
       "    </tr>\n",
       "    <tr>\n",
       "      <th>2017-06-20 17:43:45</th>\n",
       "      <td>3451.753333</td>\n",
       "      <td>10355.26</td>\n",
       "      <td>134.959158</td>\n",
       "      <td>404.877474</td>\n",
       "      <td>332.257761</td>\n",
       "      <td>996.773283</td>\n",
       "    </tr>\n",
       "    <tr>\n",
       "      <th>2017-06-27 17:43:45</th>\n",
       "      <td>8097.826667</td>\n",
       "      <td>24293.48</td>\n",
       "      <td>152.381869</td>\n",
       "      <td>457.145607</td>\n",
       "      <td>344.772657</td>\n",
       "      <td>1034.317971</td>\n",
       "    </tr>\n",
       "    <tr>\n",
       "      <th>2017-07-04 17:43:45</th>\n",
       "      <td>10929.345000</td>\n",
       "      <td>21858.69</td>\n",
       "      <td>145.534070</td>\n",
       "      <td>291.068139</td>\n",
       "      <td>341.028728</td>\n",
       "      <td>682.057457</td>\n",
       "    </tr>\n",
       "    <tr>\n",
       "      <th>2017-07-11 17:43:45</th>\n",
       "      <td>9018.686667</td>\n",
       "      <td>27056.06</td>\n",
       "      <td>148.270626</td>\n",
       "      <td>444.811877</td>\n",
       "      <td>334.844057</td>\n",
       "      <td>1004.532170</td>\n",
       "    </tr>\n",
       "    <tr>\n",
       "      <th>2017-07-18 17:43:45</th>\n",
       "      <td>7368.690000</td>\n",
       "      <td>29474.76</td>\n",
       "      <td>144.080444</td>\n",
       "      <td>576.321775</td>\n",
       "      <td>319.605880</td>\n",
       "      <td>1278.423522</td>\n",
       "    </tr>\n",
       "    <tr>\n",
       "      <th>2017-07-25 17:43:45</th>\n",
       "      <td>9209.193333</td>\n",
       "      <td>27627.58</td>\n",
       "      <td>147.535636</td>\n",
       "      <td>442.606909</td>\n",
       "      <td>319.617288</td>\n",
       "      <td>958.851863</td>\n",
       "    </tr>\n",
       "    <tr>\n",
       "      <th>2017-08-01 17:43:45</th>\n",
       "      <td>20029.030000</td>\n",
       "      <td>20029.03</td>\n",
       "      <td>146.684751</td>\n",
       "      <td>146.684751</td>\n",
       "      <td>343.593011</td>\n",
       "      <td>343.593011</td>\n",
       "    </tr>\n",
       "    <tr>\n",
       "      <th>2017-08-08 17:43:45</th>\n",
       "      <td>6233.665000</td>\n",
       "      <td>12467.33</td>\n",
       "      <td>148.161836</td>\n",
       "      <td>296.323671</td>\n",
       "      <td>315.395297</td>\n",
       "      <td>630.790594</td>\n",
       "    </tr>\n",
       "    <tr>\n",
       "      <th>2017-08-15 17:43:45</th>\n",
       "      <td>9382.536667</td>\n",
       "      <td>28147.61</td>\n",
       "      <td>149.546724</td>\n",
       "      <td>448.640172</td>\n",
       "      <td>330.383594</td>\n",
       "      <td>991.150782</td>\n",
       "    </tr>\n",
       "    <tr>\n",
       "      <th>2017-08-22 17:43:45</th>\n",
       "      <td>10442.870000</td>\n",
       "      <td>20885.74</td>\n",
       "      <td>158.686921</td>\n",
       "      <td>317.373841</td>\n",
       "      <td>314.450378</td>\n",
       "      <td>628.900755</td>\n",
       "    </tr>\n",
       "    <tr>\n",
       "      <th>2017-08-29 17:43:45</th>\n",
       "      <td>6105.275000</td>\n",
       "      <td>24421.10</td>\n",
       "      <td>143.955677</td>\n",
       "      <td>575.822708</td>\n",
       "      <td>331.839300</td>\n",
       "      <td>1327.357198</td>\n",
       "    </tr>\n",
       "    <tr>\n",
       "      <th>2017-09-05 17:43:45</th>\n",
       "      <td>NaN</td>\n",
       "      <td>NaN</td>\n",
       "      <td>NaN</td>\n",
       "      <td>NaN</td>\n",
       "      <td>NaN</td>\n",
       "      <td>NaN</td>\n",
       "    </tr>\n",
       "    <tr>\n",
       "      <th>2017-09-12 17:43:45</th>\n",
       "      <td>5026.600000</td>\n",
       "      <td>5026.60</td>\n",
       "      <td>151.408497</td>\n",
       "      <td>151.408497</td>\n",
       "      <td>304.340129</td>\n",
       "      <td>304.340129</td>\n",
       "    </tr>\n",
       "    <tr>\n",
       "      <th>2017-09-19 17:43:45</th>\n",
       "      <td>7222.550000</td>\n",
       "      <td>14445.10</td>\n",
       "      <td>135.247696</td>\n",
       "      <td>270.495392</td>\n",
       "      <td>325.725646</td>\n",
       "      <td>651.451291</td>\n",
       "    </tr>\n",
       "    <tr>\n",
       "      <th>2017-09-26 17:43:45</th>\n",
       "      <td>9958.545000</td>\n",
       "      <td>39834.18</td>\n",
       "      <td>149.313640</td>\n",
       "      <td>597.254560</td>\n",
       "      <td>334.421034</td>\n",
       "      <td>1337.684135</td>\n",
       "    </tr>\n",
       "    <tr>\n",
       "      <th>2017-10-03 17:43:45</th>\n",
       "      <td>7799.600000</td>\n",
       "      <td>23398.80</td>\n",
       "      <td>144.712251</td>\n",
       "      <td>434.136754</td>\n",
       "      <td>328.796373</td>\n",
       "      <td>986.389119</td>\n",
       "    </tr>\n",
       "    <tr>\n",
       "      <th>2017-10-10 17:43:45</th>\n",
       "      <td>14782.366667</td>\n",
       "      <td>44347.10</td>\n",
       "      <td>145.995810</td>\n",
       "      <td>437.987431</td>\n",
       "      <td>341.301533</td>\n",
       "      <td>1023.904599</td>\n",
       "    </tr>\n",
       "  </tbody>\n",
       "</table>\n",
       "</div>"
      ],
      "text/plain": [
       "                         distance            heart_rate              \\\n",
       "                             mean       sum        mean         sum   \n",
       "date                                                                  \n",
       "2017-05-02 17:43:45   9339.635000  18679.27  152.670604  305.341208   \n",
       "2017-05-09 17:43:45   5978.077500  23912.31  149.871589  599.486357   \n",
       "2017-05-16 17:43:45           NaN       NaN         NaN         NaN   \n",
       "2017-05-23 17:43:45   7472.620000   7472.62  146.278388  146.278388   \n",
       "2017-05-30 17:43:45   5032.890000   5032.89  117.939490  117.939490   \n",
       "2017-06-06 17:43:45   7670.300000  23010.90  148.267260  444.801779   \n",
       "2017-06-13 17:43:45   8450.465000  16900.93  142.642365  285.284729   \n",
       "2017-06-20 17:43:45   3451.753333  10355.26  134.959158  404.877474   \n",
       "2017-06-27 17:43:45   8097.826667  24293.48  152.381869  457.145607   \n",
       "2017-07-04 17:43:45  10929.345000  21858.69  145.534070  291.068139   \n",
       "2017-07-11 17:43:45   9018.686667  27056.06  148.270626  444.811877   \n",
       "2017-07-18 17:43:45   7368.690000  29474.76  144.080444  576.321775   \n",
       "2017-07-25 17:43:45   9209.193333  27627.58  147.535636  442.606909   \n",
       "2017-08-01 17:43:45  20029.030000  20029.03  146.684751  146.684751   \n",
       "2017-08-08 17:43:45   6233.665000  12467.33  148.161836  296.323671   \n",
       "2017-08-15 17:43:45   9382.536667  28147.61  149.546724  448.640172   \n",
       "2017-08-22 17:43:45  10442.870000  20885.74  158.686921  317.373841   \n",
       "2017-08-29 17:43:45   6105.275000  24421.10  143.955677  575.822708   \n",
       "2017-09-05 17:43:45           NaN       NaN         NaN         NaN   \n",
       "2017-09-12 17:43:45   5026.600000   5026.60  151.408497  151.408497   \n",
       "2017-09-19 17:43:45   7222.550000  14445.10  135.247696  270.495392   \n",
       "2017-09-26 17:43:45   9958.545000  39834.18  149.313640  597.254560   \n",
       "2017-10-03 17:43:45   7799.600000  23398.80  144.712251  434.136754   \n",
       "2017-10-10 17:43:45  14782.366667  44347.10  145.995810  437.987431   \n",
       "\n",
       "                           pace               \n",
       "                           mean          sum  \n",
       "date                                          \n",
       "2017-05-02 17:43:45  330.821034   661.642068  \n",
       "2017-05-09 17:43:45  332.643190  1330.572761  \n",
       "2017-05-16 17:43:45         NaN          NaN  \n",
       "2017-05-23 17:43:45  343.588261   343.588261  \n",
       "2017-05-30 17:43:45  331.100339   331.100339  \n",
       "2017-06-06 17:43:45  332.624739   997.874217  \n",
       "2017-06-13 17:43:45  340.184593   680.369185  \n",
       "2017-06-20 17:43:45  332.257761   996.773283  \n",
       "2017-06-27 17:43:45  344.772657  1034.317971  \n",
       "2017-07-04 17:43:45  341.028728   682.057457  \n",
       "2017-07-11 17:43:45  334.844057  1004.532170  \n",
       "2017-07-18 17:43:45  319.605880  1278.423522  \n",
       "2017-07-25 17:43:45  319.617288   958.851863  \n",
       "2017-08-01 17:43:45  343.593011   343.593011  \n",
       "2017-08-08 17:43:45  315.395297   630.790594  \n",
       "2017-08-15 17:43:45  330.383594   991.150782  \n",
       "2017-08-22 17:43:45  314.450378   628.900755  \n",
       "2017-08-29 17:43:45  331.839300  1327.357198  \n",
       "2017-09-05 17:43:45         NaN          NaN  \n",
       "2017-09-12 17:43:45  304.340129   304.340129  \n",
       "2017-09-19 17:43:45  325.725646   651.451291  \n",
       "2017-09-26 17:43:45  334.421034  1337.684135  \n",
       "2017-10-03 17:43:45  328.796373   986.389119  \n",
       "2017-10-10 17:43:45  341.301533  1023.904599  "
      ]
     },
     "execution_count": 35,
     "metadata": {},
     "output_type": "execute_result"
    }
   ],
   "source": [
    "df_week"
   ]
  },
  {
   "cell_type": "code",
   "execution_count": 36,
   "metadata": {
    "collapsed": false
   },
   "outputs": [
    {
     "data": {
      "image/png": "[encoded data removed]",
      "text/plain": [
       "<matplotlib.figure.Figure at 0x7f3770308f98>"
      ]
     },
     "metadata": {},
     "output_type": "display_data"
    }
   ],
   "source": [
    "plt.subplot(311)\n",
    "plt.plot(df_week.index, df_week['distance']['sum'])\n",
    "plt.title('distance')\n",
    "plt.subplot(312)\n",
    "plt.plot(df_week.index, df_week['heart_rate']['mean'])\n",
    "plt.title('heart rate')\n",
    "plt.subplot(313)\n",
    "plt.plot(df_week.index, df_week['pace']['mean'])\n",
    "plt.title('pace')\n",
    "plt.tight_layout()"
   ]
  },
  {
   "cell_type": "code",
   "execution_count": 37,
   "metadata": {
    "collapsed": false
   },
   "outputs": [
    {
     "data": {
      "text/plain": [
       "56"
      ]
     },
     "execution_count": 37,
     "metadata": {},
     "output_type": "execute_result"
    }
   ],
   "source": [
    "len(df)"
   ]
  },
  {
   "cell_type": "code",
   "execution_count": 5,
   "metadata": {
    "collapsed": false
   },
   "outputs": [],
   "source": [
    "lap = activity.laps[0].doc\n",
    "track_point = lap.getElementsByTagName('Trackpoint')[0]\n",
    "foo = lr.TrackPoint(track_point)"
   ]
  },
  {
   "cell_type": "code",
   "execution_count": 14,
   "metadata": {
    "collapsed": false
   },
   "outputs": [
    {
     "data": {
      "text/plain": [
       "[<matplotlib.lines.Line2D at 0x7f501ac01470>]"
      ]
     },
     "execution_count": 14,
     "metadata": {},
     "output_type": "execute_result"
    },
    {
     "data": {
      "image/png": "[encoded data removed]",
      "text/plain": [
       "<matplotlib.figure.Figure at 0x7f501ac385c0>"
      ]
     },
     "metadata": {},
     "output_type": "display_data"
    }
   ],
   "source": [
    "import matplotlib.pyplot as plt\n",
    "%matplotlib inline\n",
    "plt.plot()"
   ]
  },
  {
   "cell_type": "code",
   "execution_count": 15,
   "metadata": {
    "collapsed": false
   },
   "outputs": [
    {
     "data": {
      "text/plain": [
       "<matplotlib.collections.PathCollection at 0x7f501ac0be10>"
      ]
     },
     "execution_count": 15,
     "metadata": {},
     "output_type": "execute_result"
    },
    {
     "data": {
      "image/png": "[encoded data removed]",
      "text/plain": [
       "<matplotlib.figure.Figure at 0x7f501c293128>"
      ]
     },
     "metadata": {},
     "output_type": "display_data"
    }
   ],
   "source": [
    "plt.scatter(df['heart_rate'], df['speed'])"
   ]
  },
  {
   "cell_type": "code",
   "execution_count": 10,
   "metadata": {
    "collapsed": false
   },
   "outputs": [
    {
     "data": {
      "text/plain": [
       "0            NaN\n",
       "1       2.680000\n",
       "2      21.480000\n",
       "3      22.420002\n",
       "4      11.289997\n",
       "5      20.150002\n",
       "6      14.550003\n",
       "7       2.899994\n",
       "8      20.300003\n",
       "9      21.190002\n",
       "10     15.339996\n",
       "11      3.070007\n",
       "12     12.679993\n",
       "13     16.910004\n",
       "14     22.709991\n",
       "15     20.550003\n",
       "16      6.500000\n",
       "17     10.130005\n",
       "18     20.939987\n",
       "19     18.080017\n",
       "20     20.440002\n",
       "21      9.259979\n",
       "22     21.090027\n",
       "23     20.219971\n",
       "24     20.160004\n",
       "25     22.080017\n",
       "26     13.419983\n",
       "27     20.430023\n",
       "28     22.449982\n",
       "29     10.740021\n",
       "         ...    \n",
       "276    22.919922\n",
       "277    22.830078\n",
       "278    15.680176\n",
       "279    21.279785\n",
       "280    19.290039\n",
       "281    22.790039\n",
       "282    20.379883\n",
       "283    15.100098\n",
       "284     6.859863\n",
       "285    23.170410\n",
       "286    21.759766\n",
       "287    22.129883\n",
       "288    21.500000\n",
       "289     6.850098\n",
       "290    22.589844\n",
       "291    19.600098\n",
       "292    11.200195\n",
       "293     6.810059\n",
       "294    21.699707\n",
       "295    14.810059\n",
       "296    21.020020\n",
       "297    20.689941\n",
       "298    21.169922\n",
       "299    10.580078\n",
       "300    18.379883\n",
       "301    20.080078\n",
       "302    16.790039\n",
       "303     3.000000\n",
       "304    13.820312\n",
       "305     9.909668\n",
       "Name: distance, Length: 306, dtype: float64"
      ]
     },
     "execution_count": 10,
     "metadata": {},
     "output_type": "execute_result"
    }
   ],
   "source": [
    "df['distance'].diff()"
   ]
  },
  {
   "cell_type": "code",
   "execution_count": 18,
   "metadata": {
    "collapsed": false
   },
   "outputs": [
    {
     "data": {
      "text/plain": [
       "Timestamp('2017-10-14 10:21:24')"
      ]
     },
     "execution_count": 18,
     "metadata": {},
     "output_type": "execute_result"
    }
   ],
   "source": [
    "df.time[0]"
   ]
  },
  {
   "cell_type": "code",
   "execution_count": 21,
   "metadata": {
    "collapsed": false
   },
   "outputs": [],
   "source": [
    "import numpy as np\n",
    "avg_speed = np.mean(df.speed)"
   ]
  },
  {
   "cell_type": "code",
   "execution_count": 28,
   "metadata": {
    "collapsed": false
   },
   "outputs": [],
   "source": [
    "onek_pace =  pd.Timedelta(1000/avg_speed, unit='s')"
   ]
  },
  {
   "cell_type": "code",
   "execution_count": 29,
   "metadata": {
    "collapsed": false
   },
   "outputs": [
    {
     "data": {
      "text/plain": [
       "Timedelta('0 days 00:06:09.635734')"
      ]
     },
     "execution_count": 29,
     "metadata": {},
     "output_type": "execute_result"
    }
   ],
   "source": [
    "onek_pace"
   ]
  },
  {
   "cell_type": "code",
   "execution_count": 25,
   "metadata": {
    "collapsed": true
   },
   "outputs": [],
   "source": [
    "import pandas as pd"
   ]
  },
  {
   "cell_type": "code",
   "execution_count": 27,
   "metadata": {
    "collapsed": false
   },
   "outputs": [
    {
     "data": {
      "text/plain": [
       "Timedelta('0 days 00:10:00')"
      ]
     },
     "execution_count": 27,
     "metadata": {},
     "output_type": "execute_result"
    }
   ],
   "source": [
    "pd.Timedelta(600, unit='s')"
   ]
  },
  {
   "cell_type": "code",
   "execution_count": null,
   "metadata": {
    "collapsed": true
   },
   "outputs": [],
   "source": []
  }
 ],
 "metadata": {
  "kernelspec": {
   "display_name": "Python 3 (adt)",
   "language": "python",
   "name": "python3adt"
  },
  "language_info": {
   "codemirror_mode": {
    "name": "ipython",
    "version": 3
   },
   "file_extension": ".py",
   "mimetype": "text/x-python",
   "name": "python",
   "nbconvert_exporter": "python",
   "pygments_lexer": "ipython3",
   "version": "3.5.2"
  }
 },
 "nbformat": 4,
 "nbformat_minor": 1
}
